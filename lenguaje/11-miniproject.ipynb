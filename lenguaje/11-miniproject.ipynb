{
 "cells": [
  {
   "cell_type": "code",
   "execution_count": 1,
   "metadata": {
    "slideshow": {
     "slide_type": "skip"
    }
   },
   "outputs": [
    {
     "data": {
      "text/html": [
       "<style>/* title of columns */\n",
       "table thead th {\n",
       "    font-size: 1.2em !important;\n",
       "    padding-top: 0.2em !important;\n",
       "    padding-bottom: 0.2em !important;\n",
       "    text-align: left !important;\n",
       "}\n",
       "\n",
       "/* title of rows */\n",
       "table tbody th {\n",
       "    font-size: 1.2em !important;\n",
       "    background: rgba(199, 199, 199, 0.356) !important;\n",
       "    border: 1px solid black !important;\n",
       "    text-align: left !important;\n",
       "}\n",
       "\n",
       "/* style for each cell */\n",
       "table td {\n",
       "    font-size: 1.15em !important;\n",
       "    border: 1px solid black !important;\n",
       "    text-align: left !important;\n",
       "}\n",
       "\n",
       "/* disable zebra-style */\n",
       "table tbody tr {\n",
       "    background: white !important;\n",
       "}\n",
       "\n",
       "/* row color on hover */\n",
       "table tbody tr:hover {\n",
       "    background: rgba(43, 137, 226, 0.144) !important;\n",
       "}\n",
       "\n",
       "/* SLIDES */\n",
       ".slides table td {\n",
       "    font-size: 15pt !important;\n",
       "}\n",
       "\n",
       ".slides table th {\n",
       "    font-size: 15pt !important;\n",
       "}\n",
       "\n",
       ".slides img {\n",
       "    margin-left: auto !important;\n",
       "    margin-right: auto !important;\n",
       "}\n",
       "\n",
       ".slides blockquote {\n",
       "    margin: 0 !important;\n",
       "    box-shadow: none !important;\n",
       "    width: 100% !important;\n",
       "    border-left: 5px solid lightgray !important;\n",
       "    color: #284d71 !important;\n",
       "    padding: 0 0 0 10px !important;\n",
       "    background-color: #f9f9f9 !important;\n",
       "    font-size: 20px !important;\n",
       "}\n",
       "\n",
       ".slides blockquote p {\n",
       "    margin: 10px 0 10px 0 !important;\n",
       "}\n",
       "</style>"
      ],
      "text/plain": [
       "<IPython.core.display.HTML object>"
      ]
     },
     "execution_count": 1,
     "metadata": {},
     "output_type": "execute_result"
    }
   ],
   "source": [
    "from IPython.display import HTML\n",
    "from pathlib import Path\n",
    "\n",
    "css_rules = Path('../custom.css').read_text()\n",
    "HTML('<style>' + css_rules + '</style>')"
   ]
  },
  {
   "cell_type": "markdown",
   "metadata": {
    "slideshow": {
     "slide_type": "slide"
    }
   },
   "source": [
    "# Miniproyecto"
   ]
  },
  {
   "cell_type": "markdown",
   "metadata": {
    "slideshow": {
     "slide_type": "-"
    }
   },
   "source": [
    "![Spotify](img/spotify-logo.png)\n",
    "\n",
    "El objetivo del miniproyecto es integrar la mayoría de los elementos del lenguaje de programación Python vistos hasta ahora e implementar una **pequeña base de datos** para canciones de *Spotify* utilizando el paradigma de *orientación a objetos*."
   ]
  },
  {
   "cell_type": "markdown",
   "metadata": {
    "slideshow": {
     "slide_type": "subslide"
    }
   },
   "source": [
    "## 🎧 Fichero de datos\n",
    "\n",
    "Vamos a partir de un [fichero de datos extraído de Kaggle](https://www.kaggle.com/leonardopena/top50spotify2019) que contiene las *50 canciones más escuchadas en el mundo en Spotify durante el año 2019*.\n",
    "\n",
    "He limpiado este fichero para quedarnos únicamente con los datos que nos interesan. Las columnas con las que vamos a trabajar son las siguientes:\n",
    "\n",
    "- **Col. 0** ➡️ `Track Name`: nombre de la canción (*cadena de texto*).\n",
    "- **Col. 1** ➡️ `Artist Name`: nombre del artista (*cadena de texto*).\n",
    "- **Col. 2** ➡️ `Genre`: género de la canción (*cadena de texto*).\n",
    "- **Col. 3** ➡️ `Beats Per Minute`: tempo de la canción (*valor entero*).\n",
    "- **Col. 4** ➡️ `Energy`: indica lo \"energética\" que es la canción (*valor entero*).\n",
    "- **Col. 5** ➡️ `Danceability`: indica lo \"bailable\" que es la canción (*valor entero*).\n",
    "- **Col. 6** ➡️ `Length`: duración de la canción (*valor entero*).\n",
    "\n",
    "📎 [top50.csv](files/top50.csv)"
   ]
  },
  {
   "cell_type": "markdown",
   "metadata": {
    "slideshow": {
     "slide_type": "subslide"
    }
   },
   "source": [
    "## ✍🏻 Requisitos del programa\n",
    "\n",
    "Nuestro programa permitirá modificar la velocidad de las canciones variando sus *bpm* (*beats per minute*) o [pulsaciones por minuto](https://es.wikipedia.org/wiki/Pulsaciones_por_minuto).\n",
    "\n",
    "![Miniproject](img/miniproject.png)\n",
    "\n",
    "Ejemplos de ejecución:\n",
    "\n",
    "~~~python\n",
    "> python mod_bpm.py 10   # increase songs in 10bpm\n",
    "> python mod_bpm.py -25  # decrease songs in 25bpm\n",
    "~~~"
   ]
  },
  {
   "cell_type": "markdown",
   "metadata": {
    "slideshow": {
     "slide_type": "subslide"
    }
   },
   "source": [
    "## 🥏 Código a implementar"
   ]
  },
  {
   "cell_type": "markdown",
   "metadata": {
    "slideshow": {
     "slide_type": "-"
    }
   },
   "source": [
    "`spotify.py`\n",
    "\n",
    "~~~python\n",
    "class Song:\n",
    "    def __init__(self, track, artist, genre, bpm, energy, danceability, length):\n",
    "        # your code here\n",
    "    \n",
    "    def __str__(self):\n",
    "        # your code here\n",
    "    \n",
    "    def change_speed(self, relative_bpm):\n",
    "        # your code here\n",
    "    \n",
    "    @staticmethod\n",
    "    def load_songs(path):\n",
    "        # your code here\n",
    "        return songs\n",
    "    \n",
    "    @staticmethod\n",
    "    def save_songs(songs, path):\n",
    "        # your code here\n",
    "~~~"
   ]
  },
  {
   "cell_type": "markdown",
   "metadata": {
    "slideshow": {
     "slide_type": "subslide"
    }
   },
   "source": [
    "`mod_bpm.py`\n",
    "\n",
    "~~~python\n",
    "import sys\n",
    "\n",
    "from spotify import Song\n",
    "\n",
    "\n",
    "'''Information about headers in datafile\n",
    "0: track name\n",
    "1: artist name\n",
    "2: genre\n",
    "3: beats per minute\n",
    "4: energy\n",
    "5: danceability\n",
    "6: length'''\n",
    "\n",
    "\n",
    "input_file = '../files/top50.csv'\n",
    "output_file = '../files/top50_mod.csv'\n",
    "relative_bpm = int(sys.argv[1])  # read keyboard input\n",
    "\n",
    "# load songs (from input_file)\n",
    "\n",
    "# change speed of all songs\n",
    "\n",
    "# save songs (to output_file)\n",
    "~~~"
   ]
  },
  {
   "cell_type": "markdown",
   "metadata": {
    "slideshow": {
     "slide_type": "subslide"
    }
   },
   "source": [
    "## 🍩 Detalles de implementación\n",
    "\n",
    "### `__init__`\n",
    "\n",
    "Constructor de la clase para almacenar parámetros.\n",
    "\n",
    "### `__str__`\n",
    "\n",
    "El formato de salida debe ser una línea con los campos separados por comas, tal y como está definido en el fichero de entrada.\n",
    "\n",
    "### `load_songs`\n",
    "\n",
    "Leer el fichero de datos, crear un objeto de tipo `Song` por cada línea del fichero y devolver *una lista* con todas las canciones (objetos).\n",
    "\n",
    "### `save_songs`\n",
    "\n",
    "El parámetro `songs` será una lista de canciones. Almacenar todas las canciones en el fichero de salida con el mismo formato que el fichero de entrada. Utilizar de forma implícita la llamada al método `__str__` de cada objeto."
   ]
  },
  {
   "cell_type": "markdown",
   "metadata": {
    "slideshow": {
     "slide_type": "subslide"
    }
   },
   "source": [
    "### `change_speed`\n",
    "\n",
    "Actualizar parámetros:\n",
    "\n",
    "Si aumentamos en $x$ bpms una determinada canción, el resto de parámetros se actualiza así:\n",
    "- La *energía* aumenta en $2x$\n",
    "- La *bailavilidad* aumenta en $3x$\n",
    "- La *longitud* disminuye en $x$\n",
    "\n",
    "Si disminuimos en $y$ bpms una determinada canción, el resto de parámetros se actualiza así:\n",
    "- La *energía* disminuye en $2y$\n",
    "- La *bailavilidad* disminuye en $3y$\n",
    "- La *longitud* aumenta en $y$"
   ]
  },
  {
   "cell_type": "markdown",
   "metadata": {
    "slideshow": {
     "slide_type": "subslide"
    }
   },
   "source": [
    "## 🔍 Comprobación de resultados\n",
    "\n",
    "Para comprobar si tu programa está funcionando bien, te dejo la salida de dos ejecuciones:\n",
    "\n",
    "- `> python mod_bpm.py 10` ➡️ [top50_mod_plus10.csv](files/top50_mod_plus10.csv)\n",
    "\n",
    "\n",
    "- `> python mod_bpm.py -5` ➡️ [top50_mod_minus5.csv](files/top50_mod_minus5.csv)"
   ]
  },
  {
   "cell_type": "markdown",
   "metadata": {
    "slideshow": {
     "slide_type": "-"
    }
   },
   "source": [
    "La forma más sencilla es comparar el fichero de salida de tu programa `top50_mod.csv` con el correspondiente de los anteriores. La herramienta `diff` compara dos ficheros y nos dice si son exactamente iguales:\n",
    "\n",
    "~~~bash\n",
    "> diff -s top50_mod.csv top50_mod_plus10.csv\n",
    "Files top50_mod.csv and top50_mod_plus10.csv are identical\n",
    "~~~\n",
    "\n",
    "~~~bash\n",
    "> diff -s top50_mod.csv top50_mod_minus5.csv\n",
    "Files top50_mod.csv and top50_mod_minus5.csv are identical\n",
    "~~~"
   ]
  },
  {
   "cell_type": "markdown",
   "metadata": {
    "slideshow": {
     "slide_type": "subslide"
    }
   },
   "source": [
    "## 📊 Rúbrica de evaluación"
   ]
  },
  {
   "cell_type": "markdown",
   "metadata": {
    "slideshow": {
     "slide_type": "-"
    }
   },
   "source": [
    "Fichero | Item | Valoración\n",
    "--- | --- | ---\n",
    "- | Salida correcta | 30%\n",
    "`mod_bpm.py` | Carga de canciones | 5%\n",
    "`mod_bpm.py` | Modificación de velocidad | 5%\n",
    "`mod_bpm.py` | Escritura de canciones | 5%\n",
    "`spotify.py` | `__init__` | 5%\n",
    "`spotify.py` | `__str__` | 5%\n",
    "`spotify.py` | `change_speed` | 10%\n",
    "`spotify.py` | `load_songs` | 20%\n",
    "`spotify.py` | `save_songs` | 15%"
   ]
  }
 ],
 "metadata": {
  "celltoolbar": "Slideshow",
  "kernelspec": {
   "display_name": "Python 3",
   "language": "python",
   "name": "python3"
  },
  "language_info": {
   "codemirror_mode": {
    "name": "ipython",
    "version": 3
   },
   "file_extension": ".py",
   "mimetype": "text/x-python",
   "name": "python",
   "nbconvert_exporter": "python",
   "pygments_lexer": "ipython3",
   "version": "3.6.9"
  }
 },
 "nbformat": 4,
 "nbformat_minor": 4
}
